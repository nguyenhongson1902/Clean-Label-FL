{
 "cells": [
  {
   "cell_type": "code",
   "execution_count": 14,
   "metadata": {},
   "outputs": [],
   "source": [
    "import numpy as np\n",
    "import pandas as pd"
   ]
  },
  {
   "cell_type": "code",
   "execution_count": 16,
   "metadata": {},
   "outputs": [
    {
     "data": {
      "text/html": [
       "<div>\n",
       "<style scoped>\n",
       "    .dataframe tbody tr th:only-of-type {\n",
       "        vertical-align: middle;\n",
       "    }\n",
       "\n",
       "    .dataframe tbody tr th {\n",
       "        vertical-align: top;\n",
       "    }\n",
       "\n",
       "    .dataframe thead th {\n",
       "        text-align: right;\n",
       "    }\n",
       "</style>\n",
       "<table border=\"1\" class=\"dataframe\">\n",
       "  <thead>\n",
       "    <tr style=\"text-align: right;\">\n",
       "      <th></th>\n",
       "      <th>0</th>\n",
       "      <th>1</th>\n",
       "      <th>2</th>\n",
       "      <th>3</th>\n",
       "      <th>4</th>\n",
       "      <th>5</th>\n",
       "      <th>6</th>\n",
       "      <th>7</th>\n",
       "      <th>8</th>\n",
       "      <th>9</th>\n",
       "      <th>...</th>\n",
       "      <th>12</th>\n",
       "      <th>13</th>\n",
       "      <th>14</th>\n",
       "      <th>15</th>\n",
       "      <th>16</th>\n",
       "      <th>17</th>\n",
       "      <th>18</th>\n",
       "      <th>19</th>\n",
       "      <th>20</th>\n",
       "      <th>21</th>\n",
       "    </tr>\n",
       "  </thead>\n",
       "  <tbody>\n",
       "    <tr>\n",
       "      <th>0</th>\n",
       "      <td>79.54</td>\n",
       "      <td>5.559656</td>\n",
       "      <td>0.752170</td>\n",
       "      <td>0.989259</td>\n",
       "      <td>0.596200</td>\n",
       "      <td>0.699219</td>\n",
       "      <td>0.649573</td>\n",
       "      <td>0.899209</td>\n",
       "      <td>0.667513</td>\n",
       "      <td>0.880642</td>\n",
       "      <td>...</td>\n",
       "      <td>0.780</td>\n",
       "      <td>0.921</td>\n",
       "      <td>0.753</td>\n",
       "      <td>0.895</td>\n",
       "      <td>0.684</td>\n",
       "      <td>0.910</td>\n",
       "      <td>0.263</td>\n",
       "      <td>0.878</td>\n",
       "      <td>0.934</td>\n",
       "      <td>0.936</td>\n",
       "    </tr>\n",
       "    <tr>\n",
       "      <th>1</th>\n",
       "      <td>80.32</td>\n",
       "      <td>5.313913</td>\n",
       "      <td>0.724403</td>\n",
       "      <td>0.985154</td>\n",
       "      <td>0.563707</td>\n",
       "      <td>0.789757</td>\n",
       "      <td>0.871332</td>\n",
       "      <td>0.957731</td>\n",
       "      <td>0.584329</td>\n",
       "      <td>0.835993</td>\n",
       "      <td>...</td>\n",
       "      <td>0.849</td>\n",
       "      <td>0.929</td>\n",
       "      <td>0.876</td>\n",
       "      <td>0.879</td>\n",
       "      <td>0.386</td>\n",
       "      <td>0.861</td>\n",
       "      <td>0.440</td>\n",
       "      <td>0.943</td>\n",
       "      <td>0.941</td>\n",
       "      <td>0.928</td>\n",
       "    </tr>\n",
       "    <tr>\n",
       "      <th>2</th>\n",
       "      <td>82.90</td>\n",
       "      <td>4.904134</td>\n",
       "      <td>0.673801</td>\n",
       "      <td>0.982365</td>\n",
       "      <td>0.800481</td>\n",
       "      <td>0.885393</td>\n",
       "      <td>0.620785</td>\n",
       "      <td>0.926295</td>\n",
       "      <td>0.714592</td>\n",
       "      <td>0.895349</td>\n",
       "      <td>...</td>\n",
       "      <td>0.913</td>\n",
       "      <td>0.947</td>\n",
       "      <td>0.666</td>\n",
       "      <td>0.788</td>\n",
       "      <td>0.902</td>\n",
       "      <td>0.930</td>\n",
       "      <td>0.333</td>\n",
       "      <td>0.924</td>\n",
       "      <td>0.950</td>\n",
       "      <td>0.937</td>\n",
       "    </tr>\n",
       "    <tr>\n",
       "      <th>3</th>\n",
       "      <td>84.38</td>\n",
       "      <td>4.390917</td>\n",
       "      <td>0.733728</td>\n",
       "      <td>0.981386</td>\n",
       "      <td>0.770161</td>\n",
       "      <td>0.804309</td>\n",
       "      <td>0.769874</td>\n",
       "      <td>0.937813</td>\n",
       "      <td>0.623441</td>\n",
       "      <td>0.874771</td>\n",
       "      <td>...</td>\n",
       "      <td>0.868</td>\n",
       "      <td>0.949</td>\n",
       "      <td>0.764</td>\n",
       "      <td>0.896</td>\n",
       "      <td>0.736</td>\n",
       "      <td>0.935</td>\n",
       "      <td>0.500</td>\n",
       "      <td>0.957</td>\n",
       "      <td>0.931</td>\n",
       "      <td>0.902</td>\n",
       "    </tr>\n",
       "    <tr>\n",
       "      <th>4</th>\n",
       "      <td>85.11</td>\n",
       "      <td>4.201993</td>\n",
       "      <td>0.805806</td>\n",
       "      <td>0.993617</td>\n",
       "      <td>0.720000</td>\n",
       "      <td>0.777778</td>\n",
       "      <td>0.728611</td>\n",
       "      <td>0.965553</td>\n",
       "      <td>0.755372</td>\n",
       "      <td>0.913471</td>\n",
       "      <td>...</td>\n",
       "      <td>0.805</td>\n",
       "      <td>0.934</td>\n",
       "      <td>0.828</td>\n",
       "      <td>0.917</td>\n",
       "      <td>0.792</td>\n",
       "      <td>0.925</td>\n",
       "      <td>0.457</td>\n",
       "      <td>0.929</td>\n",
       "      <td>0.968</td>\n",
       "      <td>0.956</td>\n",
       "    </tr>\n",
       "    <tr>\n",
       "      <th>5</th>\n",
       "      <td>85.32</td>\n",
       "      <td>4.090257</td>\n",
       "      <td>0.725522</td>\n",
       "      <td>0.989507</td>\n",
       "      <td>0.714886</td>\n",
       "      <td>0.858847</td>\n",
       "      <td>0.801843</td>\n",
       "      <td>0.947896</td>\n",
       "      <td>0.689133</td>\n",
       "      <td>0.924319</td>\n",
       "      <td>...</td>\n",
       "      <td>0.904</td>\n",
       "      <td>0.943</td>\n",
       "      <td>0.850</td>\n",
       "      <td>0.864</td>\n",
       "      <td>0.696</td>\n",
       "      <td>0.946</td>\n",
       "      <td>0.501</td>\n",
       "      <td>0.916</td>\n",
       "      <td>0.953</td>\n",
       "      <td>0.959</td>\n",
       "    </tr>\n",
       "    <tr>\n",
       "      <th>6</th>\n",
       "      <td>85.52</td>\n",
       "      <td>4.014710</td>\n",
       "      <td>0.793726</td>\n",
       "      <td>0.982492</td>\n",
       "      <td>0.726880</td>\n",
       "      <td>0.793253</td>\n",
       "      <td>0.834218</td>\n",
       "      <td>0.968783</td>\n",
       "      <td>0.653128</td>\n",
       "      <td>0.905950</td>\n",
       "      <td>...</td>\n",
       "      <td>0.835</td>\n",
       "      <td>0.954</td>\n",
       "      <td>0.841</td>\n",
       "      <td>0.917</td>\n",
       "      <td>0.629</td>\n",
       "      <td>0.931</td>\n",
       "      <td>0.595</td>\n",
       "      <td>0.944</td>\n",
       "      <td>0.956</td>\n",
       "      <td>0.950</td>\n",
       "    </tr>\n",
       "    <tr>\n",
       "      <th>7</th>\n",
       "      <td>86.26</td>\n",
       "      <td>3.843350</td>\n",
       "      <td>0.840834</td>\n",
       "      <td>0.984647</td>\n",
       "      <td>0.782014</td>\n",
       "      <td>0.838462</td>\n",
       "      <td>0.752788</td>\n",
       "      <td>0.951904</td>\n",
       "      <td>0.663377</td>\n",
       "      <td>0.927146</td>\n",
       "      <td>...</td>\n",
       "      <td>0.766</td>\n",
       "      <td>0.962</td>\n",
       "      <td>0.800</td>\n",
       "      <td>0.872</td>\n",
       "      <td>0.810</td>\n",
       "      <td>0.950</td>\n",
       "      <td>0.605</td>\n",
       "      <td>0.929</td>\n",
       "      <td>0.975</td>\n",
       "      <td>0.957</td>\n",
       "    </tr>\n",
       "    <tr>\n",
       "      <th>8</th>\n",
       "      <td>85.96</td>\n",
       "      <td>3.935848</td>\n",
       "      <td>0.811637</td>\n",
       "      <td>0.991632</td>\n",
       "      <td>0.685070</td>\n",
       "      <td>0.811439</td>\n",
       "      <td>0.798907</td>\n",
       "      <td>0.982924</td>\n",
       "      <td>0.756677</td>\n",
       "      <td>0.888889</td>\n",
       "      <td>...</td>\n",
       "      <td>0.823</td>\n",
       "      <td>0.948</td>\n",
       "      <td>0.881</td>\n",
       "      <td>0.908</td>\n",
       "      <td>0.731</td>\n",
       "      <td>0.921</td>\n",
       "      <td>0.510</td>\n",
       "      <td>0.960</td>\n",
       "      <td>0.973</td>\n",
       "      <td>0.941</td>\n",
       "    </tr>\n",
       "    <tr>\n",
       "      <th>9</th>\n",
       "      <td>86.42</td>\n",
       "      <td>3.761991</td>\n",
       "      <td>0.879187</td>\n",
       "      <td>0.972139</td>\n",
       "      <td>0.844828</td>\n",
       "      <td>0.833333</td>\n",
       "      <td>0.737533</td>\n",
       "      <td>0.963303</td>\n",
       "      <td>0.629630</td>\n",
       "      <td>0.903318</td>\n",
       "      <td>...</td>\n",
       "      <td>0.735</td>\n",
       "      <td>0.977</td>\n",
       "      <td>0.735</td>\n",
       "      <td>0.875</td>\n",
       "      <td>0.843</td>\n",
       "      <td>0.945</td>\n",
       "      <td>0.680</td>\n",
       "      <td>0.953</td>\n",
       "      <td>0.965</td>\n",
       "      <td>0.934</td>\n",
       "    </tr>\n",
       "  </tbody>\n",
       "</table>\n",
       "<p>10 rows × 22 columns</p>\n",
       "</div>"
      ],
      "text/plain": [
       "      0         1         2         3         4         5         6    \n",
       "0  79.54  5.559656  0.752170  0.989259  0.596200  0.699219  0.649573  \\\n",
       "1  80.32  5.313913  0.724403  0.985154  0.563707  0.789757  0.871332   \n",
       "2  82.90  4.904134  0.673801  0.982365  0.800481  0.885393  0.620785   \n",
       "3  84.38  4.390917  0.733728  0.981386  0.770161  0.804309  0.769874   \n",
       "4  85.11  4.201993  0.805806  0.993617  0.720000  0.777778  0.728611   \n",
       "5  85.32  4.090257  0.725522  0.989507  0.714886  0.858847  0.801843   \n",
       "6  85.52  4.014710  0.793726  0.982492  0.726880  0.793253  0.834218   \n",
       "7  86.26  3.843350  0.840834  0.984647  0.782014  0.838462  0.752788   \n",
       "8  85.96  3.935848  0.811637  0.991632  0.685070  0.811439  0.798907   \n",
       "9  86.42  3.761991  0.879187  0.972139  0.844828  0.833333  0.737533   \n",
       "\n",
       "         7         8         9   ...     12     13     14     15     16   \n",
       "0  0.899209  0.667513  0.880642  ...  0.780  0.921  0.753  0.895  0.684  \\\n",
       "1  0.957731  0.584329  0.835993  ...  0.849  0.929  0.876  0.879  0.386   \n",
       "2  0.926295  0.714592  0.895349  ...  0.913  0.947  0.666  0.788  0.902   \n",
       "3  0.937813  0.623441  0.874771  ...  0.868  0.949  0.764  0.896  0.736   \n",
       "4  0.965553  0.755372  0.913471  ...  0.805  0.934  0.828  0.917  0.792   \n",
       "5  0.947896  0.689133  0.924319  ...  0.904  0.943  0.850  0.864  0.696   \n",
       "6  0.968783  0.653128  0.905950  ...  0.835  0.954  0.841  0.917  0.629   \n",
       "7  0.951904  0.663377  0.927146  ...  0.766  0.962  0.800  0.872  0.810   \n",
       "8  0.982924  0.756677  0.888889  ...  0.823  0.948  0.881  0.908  0.731   \n",
       "9  0.963303  0.629630  0.903318  ...  0.735  0.977  0.735  0.875  0.843   \n",
       "\n",
       "      17     18     19     20     21  \n",
       "0  0.910  0.263  0.878  0.934  0.936  \n",
       "1  0.861  0.440  0.943  0.941  0.928  \n",
       "2  0.930  0.333  0.924  0.950  0.937  \n",
       "3  0.935  0.500  0.957  0.931  0.902  \n",
       "4  0.925  0.457  0.929  0.968  0.956  \n",
       "5  0.946  0.501  0.916  0.953  0.959  \n",
       "6  0.931  0.595  0.944  0.956  0.950  \n",
       "7  0.950  0.605  0.929  0.975  0.957  \n",
       "8  0.921  0.510  0.960  0.973  0.941  \n",
       "9  0.945  0.680  0.953  0.965  0.934  \n",
       "\n",
       "[10 rows x 22 columns]"
      ]
     },
     "execution_count": 16,
     "metadata": {},
     "output_type": "execute_result"
    }
   ],
   "source": [
    "df = pd.read_csv('./3000_results.csv', header=None)\n",
    "df"
   ]
  },
  {
   "cell_type": "code",
   "execution_count": 24,
   "metadata": {},
   "outputs": [
    {
     "data": {
      "text/html": [
       "<div>\n",
       "<style scoped>\n",
       "    .dataframe tbody tr th:only-of-type {\n",
       "        vertical-align: middle;\n",
       "    }\n",
       "\n",
       "    .dataframe tbody tr th {\n",
       "        vertical-align: top;\n",
       "    }\n",
       "\n",
       "    .dataframe thead th {\n",
       "        text-align: right;\n",
       "    }\n",
       "</style>\n",
       "<table border=\"1\" class=\"dataframe\">\n",
       "  <thead>\n",
       "    <tr style=\"text-align: right;\">\n",
       "      <th></th>\n",
       "      <th>2</th>\n",
       "      <th>3</th>\n",
       "      <th>4</th>\n",
       "      <th>5</th>\n",
       "      <th>6</th>\n",
       "      <th>7</th>\n",
       "      <th>8</th>\n",
       "      <th>9</th>\n",
       "      <th>10</th>\n",
       "      <th>11</th>\n",
       "      <th>12</th>\n",
       "    </tr>\n",
       "  </thead>\n",
       "  <tbody>\n",
       "    <tr>\n",
       "      <th>0</th>\n",
       "      <td>0.752170</td>\n",
       "      <td>0.989259</td>\n",
       "      <td>0.596200</td>\n",
       "      <td>0.699219</td>\n",
       "      <td>0.649573</td>\n",
       "      <td>0.899209</td>\n",
       "      <td>0.667513</td>\n",
       "      <td>0.880642</td>\n",
       "      <td>0.931206</td>\n",
       "      <td>0.908738</td>\n",
       "      <td>0.780</td>\n",
       "    </tr>\n",
       "    <tr>\n",
       "      <th>1</th>\n",
       "      <td>0.724403</td>\n",
       "      <td>0.985154</td>\n",
       "      <td>0.563707</td>\n",
       "      <td>0.789757</td>\n",
       "      <td>0.871332</td>\n",
       "      <td>0.957731</td>\n",
       "      <td>0.584329</td>\n",
       "      <td>0.835993</td>\n",
       "      <td>0.941942</td>\n",
       "      <td>0.931727</td>\n",
       "      <td>0.849</td>\n",
       "    </tr>\n",
       "    <tr>\n",
       "      <th>2</th>\n",
       "      <td>0.673801</td>\n",
       "      <td>0.982365</td>\n",
       "      <td>0.800481</td>\n",
       "      <td>0.885393</td>\n",
       "      <td>0.620785</td>\n",
       "      <td>0.926295</td>\n",
       "      <td>0.714592</td>\n",
       "      <td>0.895349</td>\n",
       "      <td>0.945274</td>\n",
       "      <td>0.937938</td>\n",
       "      <td>0.913</td>\n",
       "    </tr>\n",
       "    <tr>\n",
       "      <th>3</th>\n",
       "      <td>0.733728</td>\n",
       "      <td>0.981386</td>\n",
       "      <td>0.770161</td>\n",
       "      <td>0.804309</td>\n",
       "      <td>0.769874</td>\n",
       "      <td>0.937813</td>\n",
       "      <td>0.623441</td>\n",
       "      <td>0.874771</td>\n",
       "      <td>0.968783</td>\n",
       "      <td>0.965739</td>\n",
       "      <td>0.868</td>\n",
       "    </tr>\n",
       "    <tr>\n",
       "      <th>4</th>\n",
       "      <td>0.805806</td>\n",
       "      <td>0.993617</td>\n",
       "      <td>0.720000</td>\n",
       "      <td>0.777778</td>\n",
       "      <td>0.728611</td>\n",
       "      <td>0.965553</td>\n",
       "      <td>0.755372</td>\n",
       "      <td>0.913471</td>\n",
       "      <td>0.930769</td>\n",
       "      <td>0.932683</td>\n",
       "      <td>0.805</td>\n",
       "    </tr>\n",
       "    <tr>\n",
       "      <th>5</th>\n",
       "      <td>0.725522</td>\n",
       "      <td>0.989507</td>\n",
       "      <td>0.714886</td>\n",
       "      <td>0.858847</td>\n",
       "      <td>0.801843</td>\n",
       "      <td>0.947896</td>\n",
       "      <td>0.689133</td>\n",
       "      <td>0.924319</td>\n",
       "      <td>0.964575</td>\n",
       "      <td>0.927466</td>\n",
       "      <td>0.904</td>\n",
       "    </tr>\n",
       "    <tr>\n",
       "      <th>6</th>\n",
       "      <td>0.793726</td>\n",
       "      <td>0.982492</td>\n",
       "      <td>0.726880</td>\n",
       "      <td>0.793253</td>\n",
       "      <td>0.834218</td>\n",
       "      <td>0.968783</td>\n",
       "      <td>0.653128</td>\n",
       "      <td>0.905950</td>\n",
       "      <td>0.965657</td>\n",
       "      <td>0.944334</td>\n",
       "      <td>0.835</td>\n",
       "    </tr>\n",
       "    <tr>\n",
       "      <th>7</th>\n",
       "      <td>0.840834</td>\n",
       "      <td>0.984647</td>\n",
       "      <td>0.782014</td>\n",
       "      <td>0.838462</td>\n",
       "      <td>0.752788</td>\n",
       "      <td>0.951904</td>\n",
       "      <td>0.663377</td>\n",
       "      <td>0.927146</td>\n",
       "      <td>0.933908</td>\n",
       "      <td>0.941003</td>\n",
       "      <td>0.766</td>\n",
       "    </tr>\n",
       "    <tr>\n",
       "      <th>8</th>\n",
       "      <td>0.811637</td>\n",
       "      <td>0.991632</td>\n",
       "      <td>0.685070</td>\n",
       "      <td>0.811439</td>\n",
       "      <td>0.798907</td>\n",
       "      <td>0.982924</td>\n",
       "      <td>0.756677</td>\n",
       "      <td>0.888889</td>\n",
       "      <td>0.944660</td>\n",
       "      <td>0.951466</td>\n",
       "      <td>0.823</td>\n",
       "    </tr>\n",
       "    <tr>\n",
       "      <th>9</th>\n",
       "      <td>0.879187</td>\n",
       "      <td>0.972139</td>\n",
       "      <td>0.844828</td>\n",
       "      <td>0.833333</td>\n",
       "      <td>0.737533</td>\n",
       "      <td>0.963303</td>\n",
       "      <td>0.629630</td>\n",
       "      <td>0.903318</td>\n",
       "      <td>0.959245</td>\n",
       "      <td>0.958932</td>\n",
       "      <td>0.735</td>\n",
       "    </tr>\n",
       "  </tbody>\n",
       "</table>\n",
       "</div>"
      ],
      "text/plain": [
       "         2         3         4         5         6         7         8    \n",
       "0  0.752170  0.989259  0.596200  0.699219  0.649573  0.899209  0.667513  \\\n",
       "1  0.724403  0.985154  0.563707  0.789757  0.871332  0.957731  0.584329   \n",
       "2  0.673801  0.982365  0.800481  0.885393  0.620785  0.926295  0.714592   \n",
       "3  0.733728  0.981386  0.770161  0.804309  0.769874  0.937813  0.623441   \n",
       "4  0.805806  0.993617  0.720000  0.777778  0.728611  0.965553  0.755372   \n",
       "5  0.725522  0.989507  0.714886  0.858847  0.801843  0.947896  0.689133   \n",
       "6  0.793726  0.982492  0.726880  0.793253  0.834218  0.968783  0.653128   \n",
       "7  0.840834  0.984647  0.782014  0.838462  0.752788  0.951904  0.663377   \n",
       "8  0.811637  0.991632  0.685070  0.811439  0.798907  0.982924  0.756677   \n",
       "9  0.879187  0.972139  0.844828  0.833333  0.737533  0.963303  0.629630   \n",
       "\n",
       "         9         10        11     12  \n",
       "0  0.880642  0.931206  0.908738  0.780  \n",
       "1  0.835993  0.941942  0.931727  0.849  \n",
       "2  0.895349  0.945274  0.937938  0.913  \n",
       "3  0.874771  0.968783  0.965739  0.868  \n",
       "4  0.913471  0.930769  0.932683  0.805  \n",
       "5  0.924319  0.964575  0.927466  0.904  \n",
       "6  0.905950  0.965657  0.944334  0.835  \n",
       "7  0.927146  0.933908  0.941003  0.766  \n",
       "8  0.888889  0.944660  0.951466  0.823  \n",
       "9  0.903318  0.959245  0.958932  0.735  "
      ]
     },
     "execution_count": 24,
     "metadata": {},
     "output_type": "execute_result"
    }
   ],
   "source": [
    "# 10 rows\n",
    "df.loc[:, 2:12] # precision"
   ]
  },
  {
   "cell_type": "code",
   "execution_count": 25,
   "metadata": {},
   "outputs": [
    {
     "data": {
      "text/html": [
       "<div>\n",
       "<style scoped>\n",
       "    .dataframe tbody tr th:only-of-type {\n",
       "        vertical-align: middle;\n",
       "    }\n",
       "\n",
       "    .dataframe tbody tr th {\n",
       "        vertical-align: top;\n",
       "    }\n",
       "\n",
       "    .dataframe thead th {\n",
       "        text-align: right;\n",
       "    }\n",
       "</style>\n",
       "<table border=\"1\" class=\"dataframe\">\n",
       "  <thead>\n",
       "    <tr style=\"text-align: right;\">\n",
       "      <th></th>\n",
       "      <th>2</th>\n",
       "      <th>3</th>\n",
       "      <th>4</th>\n",
       "      <th>5</th>\n",
       "      <th>6</th>\n",
       "      <th>7</th>\n",
       "      <th>8</th>\n",
       "      <th>9</th>\n",
       "      <th>10</th>\n",
       "      <th>11</th>\n",
       "      <th>12</th>\n",
       "    </tr>\n",
       "  </thead>\n",
       "  <tbody>\n",
       "    <tr>\n",
       "      <th>0</th>\n",
       "      <td>0.752170</td>\n",
       "      <td>0.989259</td>\n",
       "      <td>0.596200</td>\n",
       "      <td>0.699219</td>\n",
       "      <td>0.649573</td>\n",
       "      <td>0.899209</td>\n",
       "      <td>0.667513</td>\n",
       "      <td>0.880642</td>\n",
       "      <td>0.931206</td>\n",
       "      <td>0.908738</td>\n",
       "      <td>0.780</td>\n",
       "    </tr>\n",
       "    <tr>\n",
       "      <th>1</th>\n",
       "      <td>0.724403</td>\n",
       "      <td>0.985154</td>\n",
       "      <td>0.563707</td>\n",
       "      <td>0.789757</td>\n",
       "      <td>0.871332</td>\n",
       "      <td>0.957731</td>\n",
       "      <td>0.584329</td>\n",
       "      <td>0.835993</td>\n",
       "      <td>0.941942</td>\n",
       "      <td>0.931727</td>\n",
       "      <td>0.849</td>\n",
       "    </tr>\n",
       "    <tr>\n",
       "      <th>2</th>\n",
       "      <td>0.673801</td>\n",
       "      <td>0.982365</td>\n",
       "      <td>0.800481</td>\n",
       "      <td>0.885393</td>\n",
       "      <td>0.620785</td>\n",
       "      <td>0.926295</td>\n",
       "      <td>0.714592</td>\n",
       "      <td>0.895349</td>\n",
       "      <td>0.945274</td>\n",
       "      <td>0.937938</td>\n",
       "      <td>0.913</td>\n",
       "    </tr>\n",
       "    <tr>\n",
       "      <th>3</th>\n",
       "      <td>0.733728</td>\n",
       "      <td>0.981386</td>\n",
       "      <td>0.770161</td>\n",
       "      <td>0.804309</td>\n",
       "      <td>0.769874</td>\n",
       "      <td>0.937813</td>\n",
       "      <td>0.623441</td>\n",
       "      <td>0.874771</td>\n",
       "      <td>0.968783</td>\n",
       "      <td>0.965739</td>\n",
       "      <td>0.868</td>\n",
       "    </tr>\n",
       "    <tr>\n",
       "      <th>4</th>\n",
       "      <td>0.805806</td>\n",
       "      <td>0.993617</td>\n",
       "      <td>0.720000</td>\n",
       "      <td>0.777778</td>\n",
       "      <td>0.728611</td>\n",
       "      <td>0.965553</td>\n",
       "      <td>0.755372</td>\n",
       "      <td>0.913471</td>\n",
       "      <td>0.930769</td>\n",
       "      <td>0.932683</td>\n",
       "      <td>0.805</td>\n",
       "    </tr>\n",
       "    <tr>\n",
       "      <th>5</th>\n",
       "      <td>0.725522</td>\n",
       "      <td>0.989507</td>\n",
       "      <td>0.714886</td>\n",
       "      <td>0.858847</td>\n",
       "      <td>0.801843</td>\n",
       "      <td>0.947896</td>\n",
       "      <td>0.689133</td>\n",
       "      <td>0.924319</td>\n",
       "      <td>0.964575</td>\n",
       "      <td>0.927466</td>\n",
       "      <td>0.904</td>\n",
       "    </tr>\n",
       "    <tr>\n",
       "      <th>6</th>\n",
       "      <td>0.793726</td>\n",
       "      <td>0.982492</td>\n",
       "      <td>0.726880</td>\n",
       "      <td>0.793253</td>\n",
       "      <td>0.834218</td>\n",
       "      <td>0.968783</td>\n",
       "      <td>0.653128</td>\n",
       "      <td>0.905950</td>\n",
       "      <td>0.965657</td>\n",
       "      <td>0.944334</td>\n",
       "      <td>0.835</td>\n",
       "    </tr>\n",
       "    <tr>\n",
       "      <th>7</th>\n",
       "      <td>0.840834</td>\n",
       "      <td>0.984647</td>\n",
       "      <td>0.782014</td>\n",
       "      <td>0.838462</td>\n",
       "      <td>0.752788</td>\n",
       "      <td>0.951904</td>\n",
       "      <td>0.663377</td>\n",
       "      <td>0.927146</td>\n",
       "      <td>0.933908</td>\n",
       "      <td>0.941003</td>\n",
       "      <td>0.766</td>\n",
       "    </tr>\n",
       "    <tr>\n",
       "      <th>8</th>\n",
       "      <td>0.811637</td>\n",
       "      <td>0.991632</td>\n",
       "      <td>0.685070</td>\n",
       "      <td>0.811439</td>\n",
       "      <td>0.798907</td>\n",
       "      <td>0.982924</td>\n",
       "      <td>0.756677</td>\n",
       "      <td>0.888889</td>\n",
       "      <td>0.944660</td>\n",
       "      <td>0.951466</td>\n",
       "      <td>0.823</td>\n",
       "    </tr>\n",
       "    <tr>\n",
       "      <th>9</th>\n",
       "      <td>0.879187</td>\n",
       "      <td>0.972139</td>\n",
       "      <td>0.844828</td>\n",
       "      <td>0.833333</td>\n",
       "      <td>0.737533</td>\n",
       "      <td>0.963303</td>\n",
       "      <td>0.629630</td>\n",
       "      <td>0.903318</td>\n",
       "      <td>0.959245</td>\n",
       "      <td>0.958932</td>\n",
       "      <td>0.735</td>\n",
       "    </tr>\n",
       "  </tbody>\n",
       "</table>\n",
       "</div>"
      ],
      "text/plain": [
       "         2         3         4         5         6         7         8    \n",
       "0  0.752170  0.989259  0.596200  0.699219  0.649573  0.899209  0.667513  \\\n",
       "1  0.724403  0.985154  0.563707  0.789757  0.871332  0.957731  0.584329   \n",
       "2  0.673801  0.982365  0.800481  0.885393  0.620785  0.926295  0.714592   \n",
       "3  0.733728  0.981386  0.770161  0.804309  0.769874  0.937813  0.623441   \n",
       "4  0.805806  0.993617  0.720000  0.777778  0.728611  0.965553  0.755372   \n",
       "5  0.725522  0.989507  0.714886  0.858847  0.801843  0.947896  0.689133   \n",
       "6  0.793726  0.982492  0.726880  0.793253  0.834218  0.968783  0.653128   \n",
       "7  0.840834  0.984647  0.782014  0.838462  0.752788  0.951904  0.663377   \n",
       "8  0.811637  0.991632  0.685070  0.811439  0.798907  0.982924  0.756677   \n",
       "9  0.879187  0.972139  0.844828  0.833333  0.737533  0.963303  0.629630   \n",
       "\n",
       "         9         10        11     12  \n",
       "0  0.880642  0.931206  0.908738  0.780  \n",
       "1  0.835993  0.941942  0.931727  0.849  \n",
       "2  0.895349  0.945274  0.937938  0.913  \n",
       "3  0.874771  0.968783  0.965739  0.868  \n",
       "4  0.913471  0.930769  0.932683  0.805  \n",
       "5  0.924319  0.964575  0.927466  0.904  \n",
       "6  0.905950  0.965657  0.944334  0.835  \n",
       "7  0.927146  0.933908  0.941003  0.766  \n",
       "8  0.888889  0.944660  0.951466  0.823  \n",
       "9  0.903318  0.959245  0.958932  0.735  "
      ]
     },
     "execution_count": 25,
     "metadata": {},
     "output_type": "execute_result"
    }
   ],
   "source": [
    "# 10 rows\n",
    "df.loc[:, 2:12] # recall"
   ]
  },
  {
   "cell_type": "code",
   "execution_count": 12,
   "metadata": {},
   "outputs": [
    {
     "data": {
      "text/plain": [
       "array([[ 1,  2,  3,  4],\n",
       "       [ 5,  6,  7,  8],\n",
       "       [ 9, 10, 11, 12],\n",
       "       [13, 14, 15, 16]])"
      ]
     },
     "execution_count": 12,
     "metadata": {},
     "output_type": "execute_result"
    }
   ],
   "source": [
    "a = np.arange(1, 17).reshape((4,4))\n",
    "a"
   ]
  },
  {
   "cell_type": "code",
   "execution_count": 14,
   "metadata": {},
   "outputs": [
    {
     "data": {
      "text/plain": [
       "array([0.1       , 0.23076923, 0.26190476, 0.27586207])"
      ]
     },
     "execution_count": 14,
     "metadata": {},
     "output_type": "execute_result"
    }
   ],
   "source": [
    "np.diagonal(a) / np.sum(a, axis=1)"
   ]
  },
  {
   "cell_type": "code",
   "execution_count": 11,
   "metadata": {},
   "outputs": [],
   "source": [
    "TRAIN_DATA_LOADER_FILE_PATH = \"data_loaders/cifar10/train_data_loader.pickle\"\n",
    "TEST_DATA_LOADER_FILE_PATH = \"data_loaders/cifar10/test_data_loader.pickle\""
   ]
  },
  {
   "cell_type": "code",
   "execution_count": 2,
   "metadata": {},
   "outputs": [],
   "source": [
    "import torch"
   ]
  },
  {
   "cell_type": "code",
   "execution_count": 12,
   "metadata": {},
   "outputs": [
    {
     "data": {
      "text/plain": [
       "<torch.utils.data.dataloader.DataLoader at 0x7f88026f0550>"
      ]
     },
     "execution_count": 12,
     "metadata": {},
     "output_type": "execute_result"
    }
   ],
   "source": [
    "import pickle\n",
    "\n",
    "with open(TRAIN_DATA_LOADER_FILE_PATH, 'rb') as file:\n",
    "    train_loader = pickle.load(file)\n",
    "\n",
    "train_loader"
   ]
  },
  {
   "cell_type": "code",
   "execution_count": 13,
   "metadata": {},
   "outputs": [
    {
     "data": {
      "text/plain": [
       "5000"
      ]
     },
     "execution_count": 13,
     "metadata": {},
     "output_type": "execute_result"
    }
   ],
   "source": [
    "len(train_loader)"
   ]
  },
  {
   "cell_type": "code",
   "execution_count": 6,
   "metadata": {},
   "outputs": [
    {
     "data": {
      "text/plain": [
       "<torch.utils.data.dataloader.DataLoader at 0x7f88c02de4a0>"
      ]
     },
     "execution_count": 6,
     "metadata": {},
     "output_type": "execute_result"
    }
   ],
   "source": [
    "with open(TEST_DATA_LOADER_FILE_PATH, 'rb') as file:\n",
    "    test_loader = pickle.load(file)\n",
    "\n",
    "test_loader"
   ]
  },
  {
   "cell_type": "code",
   "execution_count": 7,
   "metadata": {},
   "outputs": [
    {
     "data": {
      "text/plain": [
       "10"
      ]
     },
     "execution_count": 7,
     "metadata": {},
     "output_type": "execute_result"
    }
   ],
   "source": [
    "len(test_loader)"
   ]
  },
  {
   "cell_type": "code",
   "execution_count": 2,
   "metadata": {},
   "outputs": [
    {
     "name": "stdout",
     "output_type": "stream",
     "text": [
      "tensor([1, 2, 3, 4, 5, 6, 7, 8, 9])\n",
      "[1 2 3 4 5 6 7 8 9]\n"
     ]
    }
   ],
   "source": [
    "import torch\n",
    "import numpy as np\n",
    "\n",
    "\n",
    "a = torch.arange(1,10)\n",
    "b = np.arange(1, 10)\n",
    "print(a)\n",
    "print(b)"
   ]
  },
  {
   "cell_type": "code",
   "execution_count": 3,
   "metadata": {},
   "outputs": [
    {
     "ename": "TypeError",
     "evalue": "allclose(): argument 'other' (position 2) must be Tensor, not numpy.ndarray",
     "output_type": "error",
     "traceback": [
      "\u001b[0;31m---------------------------------------------------------------------------\u001b[0m",
      "\u001b[0;31mTypeError\u001b[0m                                 Traceback (most recent call last)",
      "Cell \u001b[0;32mIn[3], line 1\u001b[0m\n\u001b[0;32m----> 1\u001b[0m torch\u001b[39m.\u001b[39;49mallclose(a, b)\n",
      "\u001b[0;31mTypeError\u001b[0m: allclose(): argument 'other' (position 2) must be Tensor, not numpy.ndarray"
     ]
    }
   ],
   "source": [
    "torch.allclose(a, b)"
   ]
  },
  {
   "cell_type": "code",
   "execution_count": 51,
   "metadata": {},
   "outputs": [
    {
     "data": {
      "text/plain": [
       "array([ 3,  2, 10,  4])"
      ]
     },
     "execution_count": 51,
     "metadata": {},
     "output_type": "execute_result"
    }
   ],
   "source": [
    "t = np.array([1,2,3,4,5,6,7,8,9,10])\n",
    "np.random.choice(t, 4, replace=False)\n"
   ]
  },
  {
   "cell_type": "code",
   "execution_count": 52,
   "metadata": {},
   "outputs": [
    {
     "data": {
      "text/plain": [
       "array([ 1,  2,  3,  4,  5,  6,  7,  8,  9, 10])"
      ]
     },
     "execution_count": 52,
     "metadata": {},
     "output_type": "execute_result"
    }
   ],
   "source": [
    "t"
   ]
  },
  {
   "cell_type": "code",
   "execution_count": 1,
   "metadata": {},
   "outputs": [
    {
     "name": "stdout",
     "output_type": "stream",
     "text": [
      "Files already downloaded and verified\n"
     ]
    }
   ],
   "source": [
    "import torch\n",
    "import torchvision.datasets as datasets\n",
    "import numpy as np\n",
    "\n",
    "# load CIFAR-10 dataset\n",
    "trainset = datasets.CIFAR10(root='./data', train=True, download=True)\n",
    "\n",
    "# extract bird images\n",
    "bird_indices = np.where(np.array(trainset.targets) == 2)[0]\n",
    "bird_indices = np.random.choice(bird_indices, 100, replace=False)\n",
    "\n",
    "# exclude bird images from dataset\n",
    "train_indices = np.setdiff1d(np.arange(len(trainset)), bird_indices)\n",
    "trainset.data = trainset.data[train_indices]\n",
    "trainset.targets = list(np.array(trainset.targets)[train_indices])\n",
    "\n",
    "# choose 500 examples from training set, 50 from each class\n",
    "class_counts = [50, 50, 50, 50, 50, 50, 50, 50, 50, 50]\n",
    "class_indices = []\n",
    "for i in range(10):\n",
    "    indices = np.where(np.array(trainset.targets) == i)[0]\n",
    "    indices = np.random.choice(indices, min(class_counts[i], len(indices)), replace=False)\n",
    "    class_indices.extend(indices)\n",
    "class_indices.extend(bird_indices)\n",
    "trainset.data = trainset.data[class_indices]\n",
    "trainset.targets = list(np.array(trainset.targets)[class_indices])\n",
    "# class_indices.extend(bird_indices)\n",
    "\n",
    "\n",
    "# convert dataset to PyTorch tensors\n",
    "train_data = torch.from_numpy(trainset.data).permute(0, 3, 1, 2).float()\n",
    "train_labels = torch.tensor(trainset.targets)\n",
    "\n",
    "# create PyTorch dataset\n",
    "train_dataset = torch.utils.data.TensorDataset(train_data, train_labels)\n"
   ]
  },
  {
   "cell_type": "code",
   "execution_count": 3,
   "metadata": {},
   "outputs": [
    {
     "data": {
      "text/plain": [
       "<torch.utils.data.dataset.TensorDataset at 0x7fc5519ec7c0>"
      ]
     },
     "execution_count": 3,
     "metadata": {},
     "output_type": "execute_result"
    }
   ],
   "source": [
    "train_dataset"
   ]
  },
  {
   "cell_type": "code",
   "execution_count": 9,
   "metadata": {},
   "outputs": [
    {
     "data": {
      "text/plain": [
       "torch.Size([9500])"
      ]
     },
     "execution_count": 9,
     "metadata": {},
     "output_type": "execute_result"
    }
   ],
   "source": [
    "train_labels.shape"
   ]
  },
  {
   "cell_type": "code",
   "execution_count": 11,
   "metadata": {},
   "outputs": [
    {
     "data": {
      "text/plain": [
       "(100,)"
      ]
     },
     "execution_count": 11,
     "metadata": {},
     "output_type": "execute_result"
    }
   ],
   "source": [
    "bird_indices.shape"
   ]
  },
  {
   "cell_type": "code",
   "execution_count": 34,
   "metadata": {},
   "outputs": [
    {
     "name": "stdout",
     "output_type": "stream",
     "text": [
      "Files already downloaded and verified\n"
     ]
    }
   ],
   "source": [
    "trainset = datasets.CIFAR10(root='./data', train=True, download=True)"
   ]
  },
  {
   "cell_type": "code",
   "execution_count": 35,
   "metadata": {},
   "outputs": [],
   "source": [
    "bird_indices = np.where(np.array(trainset.targets) == 2)[0]"
   ]
  },
  {
   "cell_type": "code",
   "execution_count": 36,
   "metadata": {},
   "outputs": [
    {
     "data": {
      "text/plain": [
       "(5000,)"
      ]
     },
     "execution_count": 36,
     "metadata": {},
     "output_type": "execute_result"
    }
   ],
   "source": [
    "bird_indices.shape"
   ]
  },
  {
   "cell_type": "code",
   "execution_count": 37,
   "metadata": {},
   "outputs": [],
   "source": [
    "bird_indices = np.random.choice(bird_indices, 100, replace=False)"
   ]
  },
  {
   "cell_type": "code",
   "execution_count": 38,
   "metadata": {},
   "outputs": [
    {
     "data": {
      "text/plain": [
       "(100,)"
      ]
     },
     "execution_count": 38,
     "metadata": {},
     "output_type": "execute_result"
    }
   ],
   "source": [
    "bird_indices.shape"
   ]
  },
  {
   "cell_type": "code",
   "execution_count": 39,
   "metadata": {},
   "outputs": [],
   "source": [
    "train_indices = np.setdiff1d(np.arange(len(trainset)), bird_indices)"
   ]
  },
  {
   "cell_type": "code",
   "execution_count": 40,
   "metadata": {},
   "outputs": [
    {
     "data": {
      "text/plain": [
       "(49900,)"
      ]
     },
     "execution_count": 40,
     "metadata": {},
     "output_type": "execute_result"
    }
   ],
   "source": [
    "train_indices.shape"
   ]
  },
  {
   "cell_type": "code",
   "execution_count": 41,
   "metadata": {},
   "outputs": [],
   "source": [
    "trainset.data = trainset.data[train_indices]"
   ]
  },
  {
   "cell_type": "code",
   "execution_count": 44,
   "metadata": {},
   "outputs": [
    {
     "data": {
      "text/plain": [
       "50000"
      ]
     },
     "execution_count": 44,
     "metadata": {},
     "output_type": "execute_result"
    }
   ],
   "source": [
    "len(trainset.targets)"
   ]
  },
  {
   "cell_type": "code",
   "execution_count": 45,
   "metadata": {},
   "outputs": [],
   "source": [
    "trainset.targets = list(np.array(trainset.targets)[train_indices])"
   ]
  },
  {
   "cell_type": "code",
   "execution_count": 47,
   "metadata": {},
   "outputs": [
    {
     "data": {
      "text/plain": [
       "49900"
      ]
     },
     "execution_count": 47,
     "metadata": {},
     "output_type": "execute_result"
    }
   ],
   "source": [
    "len(trainset.targets)"
   ]
  },
  {
   "cell_type": "code",
   "execution_count": 55,
   "metadata": {},
   "outputs": [
    {
     "data": {
      "text/plain": [
       "numpy.ndarray"
      ]
     },
     "execution_count": 55,
     "metadata": {},
     "output_type": "execute_result"
    }
   ],
   "source": [
    "type(trainset.data)"
   ]
  },
  {
   "cell_type": "code",
   "execution_count": 56,
   "metadata": {},
   "outputs": [
    {
     "data": {
      "text/plain": [
       "list"
      ]
     },
     "execution_count": 56,
     "metadata": {},
     "output_type": "execute_result"
    }
   ],
   "source": [
    "type(trainset.targets)"
   ]
  },
  {
   "cell_type": "code",
   "execution_count": 2,
   "metadata": {},
   "outputs": [
    {
     "data": {
      "text/plain": [
       "array([3.71971565e-08, 2.12893022e-01, 3.47215287e-17, 2.18087738e-06,\n",
       "       4.28350755e-07, 9.35460852e-15, 7.83349341e-01, 1.55209651e-08,\n",
       "       2.95777801e-08, 3.75494583e-03])"
      ]
     },
     "execution_count": 2,
     "metadata": {},
     "output_type": "execute_result"
    }
   ],
   "source": [
    "import numpy as np\n",
    "\n",
    "# generate test case for the code np.random.dirichlet(np.repeat(partition_alpha, n_nets))\n",
    "partition_alpha = 0.1\n",
    "n_nets = 10\n",
    "a = np.random.dirichlet(np.repeat(partition_alpha, n_nets))\n",
    "a"
   ]
  },
  {
   "cell_type": "code",
   "execution_count": 7,
   "metadata": {},
   "outputs": [],
   "source": [
    "# Explain to me this code proportions = (np.cumsum(proportions)*len(idx_k)).astype(int)[:-1]\n",
    "import numpy as np\n",
    "\n",
    "\n",
    "proportions = np.array([0.1, 0.2, 0.3, 0.4])\n",
    "# idx_k = np.array([1, 2, 3, 4, 5, 6, 7, 8, 9, 10])\n",
    "# proportions = (np.cumsum(proportions)*len(idx_k)).astype(int)[:-1]\n",
    "# proportions"
   ]
  },
  {
   "cell_type": "code",
   "execution_count": 8,
   "metadata": {},
   "outputs": [
    {
     "data": {
      "text/plain": [
       "array([0.1, 0.3, 0.6, 1. ])"
      ]
     },
     "execution_count": 8,
     "metadata": {},
     "output_type": "execute_result"
    }
   ],
   "source": [
    "np.cumsum(proportions)"
   ]
  },
  {
   "cell_type": "code",
   "execution_count": 23,
   "metadata": {},
   "outputs": [
    {
     "name": "stdout",
     "output_type": "stream",
     "text": [
      "Files already downloaded and verified\n",
      "Mean:  [0.49421428 0.48513139 0.45040909]\n",
      "Std:  [0.24665252 0.24289226 0.26159238]\n"
     ]
    }
   ],
   "source": [
    "import torchvision\n",
    "import torchvision.datasets as datasets\n",
    "import numpy as np\n",
    "from torch.utils.data import TensorDataset, DataLoader, Subset\n",
    "\n",
    "# Load the CIFAR-10 dataset\n",
    "cifar_trainset = datasets.CIFAR10(root='./data', train=False, download=True)\n",
    "\n",
    "# Calculate the mean and standard deviation values for the dataset\n",
    "train_mean = np.mean(cifar_trainset.data, axis=(0,1,2)) / 255\n",
    "train_std = np.std(cifar_trainset.data, axis=(0,1,2)) / 255\n",
    "\n",
    "print('Mean: ', train_mean)\n",
    "print('Std: ', train_std)\n"
   ]
  },
  {
   "cell_type": "code",
   "execution_count": 7,
   "metadata": {},
   "outputs": [
    {
     "name": "stdout",
     "output_type": "stream",
     "text": [
      "Files already downloaded and verified\n"
     ]
    }
   ],
   "source": [
    "# 45500 examples, 500 bird images\n",
    "# Define the CIFAR-10 dataset\n",
    "train_dataset = torchvision.datasets.CIFAR10(root='./data', train=True, download=True)\n",
    "\n",
    "# Define the indices of the classes to keep\n",
    "classes_to_keep = [0, 1, 3, 4, 5, 6, 7, 8, 9]\n",
    "\n",
    "# Define the indices of the examples to exclude from the bird class\n",
    "bird_indices_to_exclude = [i for i in range(len(train_dataset)) if train_dataset[i][1] == 2][:4500]\n",
    "\n",
    "# Define the indices of the examples to keep\n",
    "indices_to_keep = list(set(range(len(train_dataset))) - set(bird_indices_to_exclude))\n",
    "\n",
    "# Create a subset of the dataset that contains only the desired classes and examples\n",
    "poi_ori_train = Subset(train_dataset, indices_to_keep)"
   ]
  },
  {
   "cell_type": "code",
   "execution_count": 12,
   "metadata": {},
   "outputs": [
    {
     "data": {
      "text/plain": [
       "Dataset CIFAR10\n",
       "    Number of datapoints: 50000\n",
       "    Root location: ./data\n",
       "    Split: Train"
      ]
     },
     "execution_count": 12,
     "metadata": {},
     "output_type": "execute_result"
    }
   ],
   "source": [
    "poi_ori_train.dataset"
   ]
  },
  {
   "cell_type": "code",
   "execution_count": 8,
   "metadata": {},
   "outputs": [
    {
     "data": {
      "text/plain": [
       "<torch.utils.data.dataset.Subset at 0x7f4bd068cd60>"
      ]
     },
     "execution_count": 8,
     "metadata": {},
     "output_type": "execute_result"
    }
   ],
   "source": [
    "# Calculate the mean and standard deviation values for the dataset\n",
    "train_mean = np.mean(poi_ori_train.data, axis=(0,1,2)) / 255\n",
    "train_std = np.std(poi_ori_train.data, axis=(0,1,2)) / 255\n",
    "\n",
    "print('Mean: ', train_mean)\n",
    "print('Std: ', train_std)"
   ]
  },
  {
   "cell_type": "code",
   "execution_count": 15,
   "metadata": {},
   "outputs": [
    {
     "name": "stdout",
     "output_type": "stream",
     "text": [
      "Files already downloaded and verified\n",
      "Mean: [0.4903393  0.48285264 0.44551636]\n",
      "Std: [0.24565932 0.24293559 0.26193403]\n"
     ]
    }
   ],
   "source": [
    "import numpy as np\n",
    "from torchvision.datasets import CIFAR10\n",
    "\n",
    "# Load CIFAR10 dataset\n",
    "cifar10 = CIFAR10(root='./data', train=True, download=True)\n",
    "\n",
    "# Create a subset of CIFAR10\n",
    "subset = torch.utils.data.Subset(cifar10, range(1000))\n",
    "\n",
    "# Convert the subset to a numpy array\n",
    "subset_array = np.array([np.array(sample[0]) for sample in subset])\n",
    "\n",
    "# Calculate the mean and standard deviation of the subset\n",
    "mean = np.mean(subset_array, axis=(0, 1, 2)) / 255\n",
    "std = np.std(subset_array, axis=(0, 1, 2)) / 255\n",
    "\n",
    "print(\"Mean:\", mean)\n",
    "print(\"Std:\", std)\n"
   ]
  },
  {
   "cell_type": "code",
   "execution_count": 26,
   "metadata": {},
   "outputs": [
    {
     "name": "stdout",
     "output_type": "stream",
     "text": [
      "Files already downloaded and verified\n",
      "Mean:  [0.49139968 0.48215841 0.44653091]\n",
      "Std:  [0.24703223 0.24348513 0.26158784]\n"
     ]
    }
   ],
   "source": [
    "import torchvision.datasets as datasets\n",
    "import numpy as np\n",
    "\n",
    "# Load the CIFAR-10 dataset\n",
    "cifar_trainset = datasets.CIFAR10(root='./data', train=True, download=True)\n",
    "\n",
    "# Calculate the mean and standard deviation values for the dataset\n",
    "train_mean = np.mean(cifar_trainset.data, axis=(0,1,2)) / 255\n",
    "train_std = np.std(cifar_trainset.data, axis=(0,1,2)) / 255\n",
    "\n",
    "print('Mean: ', train_mean) # (0.49139968, 0.48215841, 0.44653091)\n",
    "print('Std: ', train_std) # (0.24703223, 0.24348513, 0.26158784)"
   ]
  },
  {
   "cell_type": "code",
   "execution_count": 29,
   "metadata": {},
   "outputs": [
    {
     "name": "stdout",
     "output_type": "stream",
     "text": [
      "Files already downloaded and verified\n",
      "Mean:  [0.49421428 0.48513139 0.45040909]\n",
      "Std:  [0.24665252 0.24289226 0.26159238]\n"
     ]
    }
   ],
   "source": [
    "# Load the CIFAR-10 dataset\n",
    "cifar_trainset = datasets.CIFAR10(root='./data', train=False, download=True)\n",
    "\n",
    "# Calculate the mean and standard deviation values for the dataset\n",
    "train_mean = np.mean(cifar_trainset.data, axis=(0,1,2)) / 255\n",
    "train_std = np.std(cifar_trainset.data, axis=(0,1,2)) / 255\n",
    "\n",
    "print('Mean: ', train_mean) # (0.49421428, 0.48513139, 0.45040909)\n",
    "print('Std: ', train_std) # (0.24665252, 0.24289226, 0.26159238)"
   ]
  },
  {
   "cell_type": "code",
   "execution_count": 32,
   "metadata": {},
   "outputs": [
    {
     "name": "stdout",
     "output_type": "stream",
     "text": [
      "Training Mean:  tensor([0.4802, 0.4481, 0.3975])\n",
      "Training Std:  tensor([0.2302, 0.2265, 0.2262])\n"
     ]
    }
   ],
   "source": [
    "import torchvision.datasets as datasets\n",
    "import torchvision.transforms as transforms\n",
    "import numpy as np\n",
    "import torch\n",
    "\n",
    "# Define the path to the Tiny ImageNet dataset\n",
    "train_dir = './data/tiny-imagenet-200/train'\n",
    "\n",
    "# Define the transforms to be applied to the images\n",
    "transform_train = transforms.Compose([\n",
    "    transforms.Resize((64, 64)),\n",
    "    transforms.ToTensor()\n",
    "])\n",
    "\n",
    "# Load the Tiny ImageNet training dataset\n",
    "trainset = datasets.ImageFolder(root=train_dir, transform=transform_train)\n",
    "\n",
    "# Define the dataloader with batch size 100\n",
    "trainloader = torch.utils.data.DataLoader(trainset, batch_size=100, shuffle=False)\n",
    "\n",
    "# Calculate the mean and standard deviation values for the training dataset\n",
    "mean = 0.0\n",
    "std = 0.0\n",
    "for images, _ in trainloader:\n",
    "    batch_samples = images.size(0)\n",
    "    images = images.view(batch_samples, images.size(1), -1)\n",
    "    mean += images.mean(2).sum(0)\n",
    "    std += images.std(2).sum(0)\n",
    "\n",
    "train_mean = mean / len(trainloader.dataset)\n",
    "train_std = std / len(trainloader.dataset)\n",
    "\n",
    "print('Training Mean: ', train_mean) # [0.4802, 0.4481, 0.3975]\n",
    "print('Training Std: ', train_std) # [0.2302, 0.2265, 0.2262]\n"
   ]
  },
  {
   "cell_type": "code",
   "execution_count": 33,
   "metadata": {},
   "outputs": [
    {
     "name": "stdout",
     "output_type": "stream",
     "text": [
      "Test Mean:  tensor([0.4718, 0.4416, 0.3921])\n",
      "Test Std:  tensor([0.2308, 0.2277, 0.2270])\n"
     ]
    }
   ],
   "source": [
    "import torchvision.datasets as datasets\n",
    "import torchvision.transforms as transforms\n",
    "import numpy as np\n",
    "import torch\n",
    "\n",
    "# Define the path to the Tiny ImageNet dataset\n",
    "test_dir = './data/tiny-imagenet-200/test'\n",
    "\n",
    "# Define the transforms to be applied to the images\n",
    "transform_test = transforms.Compose([\n",
    "    transforms.Resize((64, 64)),\n",
    "    transforms.ToTensor()\n",
    "])\n",
    "\n",
    "# Load the Tiny ImageNet training dataset\n",
    "testset = datasets.ImageFolder(root=test_dir, transform=transform_test)\n",
    "\n",
    "# Define the dataloader with batch size 100\n",
    "testloader = torch.utils.data.DataLoader(testset, batch_size=100, shuffle=False)\n",
    "\n",
    "# Calculate the mean and standard deviation values for the training dataset\n",
    "mean = 0.0\n",
    "std = 0.0\n",
    "for images, _ in testloader:\n",
    "    batch_samples = images.size(0)\n",
    "    images = images.view(batch_samples, images.size(1), -1)\n",
    "    mean += images.mean(2).sum(0)\n",
    "    std += images.std(2).sum(0)\n",
    "\n",
    "test_mean = mean / len(testloader.dataset)\n",
    "test_std = std / len(testloader.dataset)\n",
    "\n",
    "print('Test Mean: ', test_mean) # [0.4718, 0.4416, 0.3921]\n",
    "print('Test Std: ', test_std) # [0.2308, 0.2277, 0.2270]\n"
   ]
  }
 ],
 "metadata": {
  "kernelspec": {
   "display_name": "pytorch-gpu",
   "language": "python",
   "name": "python3"
  },
  "language_info": {
   "codemirror_mode": {
    "name": "ipython",
    "version": 3
   },
   "file_extension": ".py",
   "mimetype": "text/x-python",
   "name": "python",
   "nbconvert_exporter": "python",
   "pygments_lexer": "ipython3",
   "version": "3.10.10"
  },
  "orig_nbformat": 4
 },
 "nbformat": 4,
 "nbformat_minor": 2
}
